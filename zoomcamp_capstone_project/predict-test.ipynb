{
 "cells": [
  {
   "cell_type": "code",
   "execution_count": 7,
   "id": "53ef0966",
   "metadata": {},
   "outputs": [
    {
     "name": "stdout",
     "output_type": "stream",
     "text": [
      "{'probability_of_not_reaching_on_time': 0.8203014135360718, 'reach_on_time': False}\n"
     ]
    }
   ],
   "source": [
    "import requests\n",
    "\n",
    "url=\"http://localhost:9696/predict\"\n",
    "#host_for_aws=\"sales-prediction-env.eba-fnayzkvs.us-west-2.elasticbeanstalk.com.\"\n",
    "#url_for_aws=f'http://{host_for_aws}/predict'\n",
    "\n",
    "sale_data= {\n",
    "    \"warehouse_block\": \"F\", \n",
    "    \"mode_of_shipment\": \"Ship\", \n",
    "    \"customer_rating\": 1, \n",
    "    \"product_importance\": \"high\", \n",
    "    \"gender\": \"F\", \n",
    "    \"customer_care_calls\": 6, \n",
    "    \"cost_of_the_product\": 168, \n",
    "    \"prior_purchases\": 5, \n",
    "    \"discount_offered\": 65, \n",
    "    \"weight_in_gms\": 1601\n",
    "}\n",
    "\n",
    "response=requests.post(url,json=sale_data).json()\n",
    "\n",
    "print(response)"
   ]
  },
  {
   "cell_type": "code",
   "execution_count": null,
   "id": "20e6c5a8",
   "metadata": {},
   "outputs": [],
   "source": []
  }
 ],
 "metadata": {
  "kernelspec": {
   "display_name": "Python 3 (ipykernel)",
   "language": "python",
   "name": "python3"
  },
  "language_info": {
   "codemirror_mode": {
    "name": "ipython",
    "version": 3
   },
   "file_extension": ".py",
   "mimetype": "text/x-python",
   "name": "python",
   "nbconvert_exporter": "python",
   "pygments_lexer": "ipython3",
   "version": "3.9.18"
  }
 },
 "nbformat": 4,
 "nbformat_minor": 5
}
