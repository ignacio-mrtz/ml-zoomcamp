{
 "cells": [
  {
   "cell_type": "code",
   "execution_count": 1,
   "id": "e9539fc8-4443-4213-af71-31dc2161927f",
   "metadata": {},
   "outputs": [],
   "source": [
    "import requests"
   ]
  },
  {
   "cell_type": "code",
   "execution_count": 2,
   "id": "cf5059f5-6d06-4e23-9808-f01902fe0a8e",
   "metadata": {},
   "outputs": [],
   "source": [
    "url=\"http://localhost:9696/predict\""
   ]
  },
  {
   "cell_type": "code",
   "execution_count": 3,
   "id": "9091134b-0936-45c9-90e0-038aa3c9b9ac",
   "metadata": {},
   "outputs": [],
   "source": [
    "client = {\"job\": \"retired\", \"duration\": 445, \"poutcome\": \"success\"}"
   ]
  },
  {
   "cell_type": "code",
   "execution_count": 4,
   "id": "1ec91b38-234c-4c7a-8c2c-cb5c34dd973a",
   "metadata": {},
   "outputs": [
    {
     "data": {
      "text/plain": [
       "{'credit probability': 0.9019309332297606}"
      ]
     },
     "execution_count": 4,
     "metadata": {},
     "output_type": "execute_result"
    }
   ],
   "source": [
    "requests.post(url, json=client).json()"
   ]
  },
  {
   "cell_type": "code",
   "execution_count": null,
   "id": "c438eebf-2a60-43a2-a295-59e783bee872",
   "metadata": {},
   "outputs": [],
   "source": []
  },
  {
   "cell_type": "code",
   "execution_count": null,
   "id": "58f79bb8-21a0-4229-86a4-f573649b0a48",
   "metadata": {},
   "outputs": [],
   "source": []
  }
 ],
 "metadata": {
  "kernelspec": {
   "display_name": "Python 3 (ipykernel)",
   "language": "python",
   "name": "python3"
  },
  "language_info": {
   "codemirror_mode": {
    "name": "ipython",
    "version": 3
   },
   "file_extension": ".py",
   "mimetype": "text/x-python",
   "name": "python",
   "nbconvert_exporter": "python",
   "pygments_lexer": "ipython3",
   "version": "3.10.4"
  }
 },
 "nbformat": 4,
 "nbformat_minor": 5
}
