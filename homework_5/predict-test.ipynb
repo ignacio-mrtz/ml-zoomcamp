{
 "cells": [
  {
   "cell_type": "code",
   "execution_count": 1,
   "id": "4f64332d-7078-42a9-8a5a-2ebedbe0b0b0",
   "metadata": {},
   "outputs": [],
   "source": [
    "import requests "
   ]
  },
  {
   "cell_type": "code",
   "execution_count": 2,
   "id": "1948a18f-80af-4498-81f0-625d39d0a605",
   "metadata": {},
   "outputs": [],
   "source": [
    "url=\"http://localhost:9696/predict\" "
   ]
  },
  {
   "cell_type": "code",
   "execution_count": 3,
   "id": "94d7d412-c44b-4df3-b039-a585f4c233e7",
   "metadata": {},
   "outputs": [],
   "source": [
    "client = {\"job\": \"unknown\", \"duration\": 270, \"poutcome\": \"failure\"}"
   ]
  },
  {
   "cell_type": "code",
   "execution_count": 4,
   "id": "9971060a-270f-421f-8745-04e88920f10a",
   "metadata": {},
   "outputs": [
    {
     "data": {
      "text/plain": [
       "{'credit probability': 0.13968947052356817}"
      ]
     },
     "execution_count": 4,
     "metadata": {},
     "output_type": "execute_result"
    }
   ],
   "source": [
    "requests.post(url, json=client).json()"
   ]
  },
  {
   "cell_type": "code",
   "execution_count": null,
   "id": "1ebb841d-201e-4412-90dd-656841408a74",
   "metadata": {},
   "outputs": [],
   "source": []
  }
 ],
 "metadata": {
  "kernelspec": {
   "display_name": "Python 3 (ipykernel)",
   "language": "python",
   "name": "python3"
  },
  "language_info": {
   "codemirror_mode": {
    "name": "ipython",
    "version": 3
   },
   "file_extension": ".py",
   "mimetype": "text/x-python",
   "name": "python",
   "nbconvert_exporter": "python",
   "pygments_lexer": "ipython3",
   "version": "3.10.4"
  }
 },
 "nbformat": 4,
 "nbformat_minor": 5
}
