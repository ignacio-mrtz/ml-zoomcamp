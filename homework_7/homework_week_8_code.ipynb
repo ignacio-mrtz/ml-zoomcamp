{
 "cells": [
  {
   "cell_type": "code",
   "execution_count": 1,
   "id": "b864dda5",
   "metadata": {},
   "outputs": [],
   "source": [
    "import numpy as np\n",
    "import matplotlib.pyplot as plt\n",
    "\n",
    "%matplotlib inline"
   ]
  },
  {
   "cell_type": "code",
   "execution_count": 2,
   "id": "0b45d008",
   "metadata": {},
   "outputs": [
    {
     "name": "stderr",
     "output_type": "stream",
     "text": [
      "2023-12-05 02:13:18.522024: I tensorflow/core/util/util.cc:169] oneDNN custom operations are on. You may see slightly different numerical results due to floating-point round-off errors from different computation orders. To turn them off, set the environment variable `TF_ENABLE_ONEDNN_OPTS=0`.\n"
     ]
    }
   ],
   "source": [
    "import tensorflow as tf\n",
    "from tensorflow import keras"
   ]
  },
  {
   "cell_type": "code",
   "execution_count": 3,
   "id": "049800b2",
   "metadata": {},
   "outputs": [],
   "source": [
    "from tensorflow.keras.preprocessing.image import load_img"
   ]
  },
  {
   "cell_type": "code",
   "execution_count": 4,
   "id": "95ab0a94",
   "metadata": {},
   "outputs": [],
   "source": [
    "from tensorflow.keras.applications.xception import Xception\n",
    "from tensorflow.keras.applications.xception import preprocess_input\n",
    "from tensorflow.keras.applications.xception import decode_predictions"
   ]
  },
  {
   "cell_type": "code",
   "execution_count": 5,
   "id": "7f5c2096",
   "metadata": {},
   "outputs": [],
   "source": [
    "from tensorflow.keras.preprocessing.image import ImageDataGenerator"
   ]
  },
  {
   "cell_type": "code",
   "execution_count": 6,
   "id": "640951fc",
   "metadata": {},
   "outputs": [
    {
     "name": "stdout",
     "output_type": "stream",
     "text": [
      "Found 3677 images belonging to 2 classes.\n"
     ]
    }
   ],
   "source": [
    "train_gen = ImageDataGenerator(rescale=1./255)\n",
    "\n",
    "train_ds = train_gen.flow_from_directory(\n",
    "    './data/train',\n",
    "    target_size=(150, 150),\n",
    "    batch_size=20,\n",
    "    class_mode='binary',\n",
    "    shuffle=True\n",
    ")"
   ]
  },
  {
   "cell_type": "code",
   "execution_count": 7,
   "id": "9fa1a5b7",
   "metadata": {
    "scrolled": true
   },
   "outputs": [
    {
     "data": {
      "text/plain": [
       "{'bee': 0, 'wasp': 1}"
      ]
     },
     "execution_count": 7,
     "metadata": {},
     "output_type": "execute_result"
    }
   ],
   "source": [
    "train_ds.class_indices"
   ]
  },
  {
   "cell_type": "code",
   "execution_count": 8,
   "id": "d4ba11e1",
   "metadata": {},
   "outputs": [
    {
     "name": "stdout",
     "output_type": "stream",
     "text": [
      "Found 918 images belonging to 2 classes.\n"
     ]
    }
   ],
   "source": [
    "val_gen = ImageDataGenerator(rescale=1./255)\n",
    "\n",
    "val_ds = val_gen.flow_from_directory(\n",
    "    './data/test',\n",
    "    target_size=(150, 150),\n",
    "    batch_size=20,\n",
    "    class_mode='binary',\n",
    "    shuffle=True\n",
    ")"
   ]
  },
  {
   "cell_type": "code",
   "execution_count": 9,
   "id": "dd5a5daa",
   "metadata": {},
   "outputs": [
    {
     "name": "stderr",
     "output_type": "stream",
     "text": [
      "2023-12-05 02:13:24.835871: I tensorflow/stream_executor/cuda/cuda_gpu_executor.cc:975] successful NUMA node read from SysFS had negative value (-1), but there must be at least one NUMA node, so returning NUMA node zero\n",
      "2023-12-05 02:13:24.842904: I tensorflow/stream_executor/cuda/cuda_gpu_executor.cc:975] successful NUMA node read from SysFS had negative value (-1), but there must be at least one NUMA node, so returning NUMA node zero\n",
      "2023-12-05 02:13:24.843500: I tensorflow/stream_executor/cuda/cuda_gpu_executor.cc:975] successful NUMA node read from SysFS had negative value (-1), but there must be at least one NUMA node, so returning NUMA node zero\n",
      "2023-12-05 02:13:24.844434: I tensorflow/core/platform/cpu_feature_guard.cc:193] This TensorFlow binary is optimized with oneAPI Deep Neural Network Library (oneDNN) to use the following CPU instructions in performance-critical operations:  AVX2 AVX512F AVX512_VNNI FMA\n",
      "To enable them in other operations, rebuild TensorFlow with the appropriate compiler flags.\n",
      "2023-12-05 02:13:24.845836: I tensorflow/stream_executor/cuda/cuda_gpu_executor.cc:975] successful NUMA node read from SysFS had negative value (-1), but there must be at least one NUMA node, so returning NUMA node zero\n",
      "2023-12-05 02:13:24.846535: I tensorflow/stream_executor/cuda/cuda_gpu_executor.cc:975] successful NUMA node read from SysFS had negative value (-1), but there must be at least one NUMA node, so returning NUMA node zero\n",
      "2023-12-05 02:13:24.847090: I tensorflow/stream_executor/cuda/cuda_gpu_executor.cc:975] successful NUMA node read from SysFS had negative value (-1), but there must be at least one NUMA node, so returning NUMA node zero\n",
      "2023-12-05 02:13:25.507322: I tensorflow/stream_executor/cuda/cuda_gpu_executor.cc:975] successful NUMA node read from SysFS had negative value (-1), but there must be at least one NUMA node, so returning NUMA node zero\n",
      "2023-12-05 02:13:25.508440: I tensorflow/stream_executor/cuda/cuda_gpu_executor.cc:975] successful NUMA node read from SysFS had negative value (-1), but there must be at least one NUMA node, so returning NUMA node zero\n",
      "2023-12-05 02:13:25.509030: I tensorflow/stream_executor/cuda/cuda_gpu_executor.cc:975] successful NUMA node read from SysFS had negative value (-1), but there must be at least one NUMA node, so returning NUMA node zero\n",
      "2023-12-05 02:13:25.509558: I tensorflow/core/common_runtime/gpu/gpu_device.cc:1532] Created device /job:localhost/replica:0/task:0/device:GPU:0 with 13795 MB memory:  -> device: 0, name: Tesla T4, pci bus id: 0000:00:1e.0, compute capability: 7.5\n"
     ]
    }
   ],
   "source": [
    "inputs = keras.Input(shape=(150, 150, 3))\n",
    "conv = keras.layers.Conv2D(filters=32, kernel_size=(3,3), activation='relu')(inputs)\n",
    "pool = keras.layers.MaxPooling2D(pool_size=(2, 2))(conv)\n",
    "vector = keras.layers.Flatten()(pool)\n",
    "inner = keras.layers.Dense(64, activation='relu')(vector)\n",
    "outputs = keras.layers.Dense(1, activation='sigmoid')(inner)\n",
    "model = keras.Model(inputs, outputs)\n",
    "    "
   ]
  },
  {
   "cell_type": "code",
   "execution_count": 10,
   "id": "c3d7923a",
   "metadata": {},
   "outputs": [],
   "source": [
    "optimizer = keras.optimizers.SGD(learning_rate=0.002, momentum=0.8)\n",
    "    \n",
    "loss = keras.losses.BinaryCrossentropy()\n",
    "    \n",
    "model.compile(\n",
    "    optimizer=optimizer,\n",
    "    loss=loss,\n",
    "    metrics=['accuracy']\n",
    ")"
   ]
  },
  {
   "cell_type": "code",
   "execution_count": 11,
   "id": "ea3107f9",
   "metadata": {},
   "outputs": [
    {
     "name": "stdout",
     "output_type": "stream",
     "text": [
      "Epoch 1/10\n"
     ]
    },
    {
     "name": "stderr",
     "output_type": "stream",
     "text": [
      "2023-12-05 02:13:26.990610: I tensorflow/stream_executor/cuda/cuda_dnn.cc:384] Loaded cuDNN version 8100\n",
      "2023-12-05 02:13:27.639853: I tensorflow/core/platform/default/subprocess.cc:304] Start cannot spawn child process: No such file or directory\n",
      "2023-12-05 02:13:27.640318: I tensorflow/core/platform/default/subprocess.cc:304] Start cannot spawn child process: No such file or directory\n",
      "2023-12-05 02:13:27.640358: W tensorflow/stream_executor/gpu/asm_compiler.cc:80] Couldn't get ptxas version string: INTERNAL: Couldn't invoke ptxas --version\n",
      "2023-12-05 02:13:27.640840: I tensorflow/core/platform/default/subprocess.cc:304] Start cannot spawn child process: No such file or directory\n",
      "2023-12-05 02:13:27.640927: W tensorflow/stream_executor/gpu/redzone_allocator.cc:314] INTERNAL: Failed to launch ptxas\n",
      "Relying on driver to perform ptx compilation. \n",
      "Modify $PATH to customize ptxas location.\n",
      "This message will be only logged once.\n"
     ]
    },
    {
     "name": "stdout",
     "output_type": "stream",
     "text": [
      "184/184 [==============================] - 14s 61ms/step - loss: 0.6722 - accuracy: 0.5681 - val_loss: 0.6458 - val_accuracy: 0.5468\n",
      "Epoch 2/10\n",
      "184/184 [==============================] - 8s 45ms/step - loss: 0.6319 - accuracy: 0.6217 - val_loss: 0.5874 - val_accuracy: 0.6961\n",
      "Epoch 3/10\n",
      "184/184 [==============================] - 8s 45ms/step - loss: 0.5838 - accuracy: 0.6921 - val_loss: 0.5556 - val_accuracy: 0.7407\n",
      "Epoch 4/10\n",
      "184/184 [==============================] - 8s 45ms/step - loss: 0.5462 - accuracy: 0.7329 - val_loss: 0.5537 - val_accuracy: 0.7407\n",
      "Epoch 5/10\n",
      "184/184 [==============================] - 8s 45ms/step - loss: 0.5202 - accuracy: 0.7601 - val_loss: 0.5378 - val_accuracy: 0.7593\n",
      "Epoch 6/10\n",
      "184/184 [==============================] - 8s 45ms/step - loss: 0.4990 - accuracy: 0.7735 - val_loss: 0.5486 - val_accuracy: 0.7244\n",
      "Epoch 7/10\n",
      "184/184 [==============================] - 8s 45ms/step - loss: 0.4662 - accuracy: 0.7925 - val_loss: 0.5448 - val_accuracy: 0.7331\n",
      "Epoch 8/10\n",
      "184/184 [==============================] - 8s 44ms/step - loss: 0.4518 - accuracy: 0.8023 - val_loss: 0.5278 - val_accuracy: 0.7516\n",
      "Epoch 9/10\n",
      "184/184 [==============================] - 8s 46ms/step - loss: 0.4160 - accuracy: 0.8200 - val_loss: 0.5206 - val_accuracy: 0.7582\n",
      "Epoch 10/10\n",
      "184/184 [==============================] - 8s 45ms/step - loss: 0.3824 - accuracy: 0.8439 - val_loss: 0.5057 - val_accuracy: 0.7647\n"
     ]
    }
   ],
   "source": [
    "history = model.fit(train_ds, epochs=10, validation_data=val_ds)"
   ]
  },
  {
   "cell_type": "code",
   "execution_count": 12,
   "id": "2a225225",
   "metadata": {},
   "outputs": [
    {
     "name": "stdout",
     "output_type": "stream",
     "text": [
      "Model: \"model\"\n",
      "_________________________________________________________________\n",
      " Layer (type)                Output Shape              Param #   \n",
      "=================================================================\n",
      " input_1 (InputLayer)        [(None, 150, 150, 3)]     0         \n",
      "                                                                 \n",
      " conv2d (Conv2D)             (None, 148, 148, 32)      896       \n",
      "                                                                 \n",
      " max_pooling2d (MaxPooling2D  (None, 74, 74, 32)       0         \n",
      " )                                                               \n",
      "                                                                 \n",
      " flatten (Flatten)           (None, 175232)            0         \n",
      "                                                                 \n",
      " dense (Dense)               (None, 64)                11214912  \n",
      "                                                                 \n",
      " dense_1 (Dense)             (None, 1)                 65        \n",
      "                                                                 \n",
      "=================================================================\n",
      "Total params: 11,215,873\n",
      "Trainable params: 11,215,873\n",
      "Non-trainable params: 0\n",
      "_________________________________________________________________\n"
     ]
    }
   ],
   "source": [
    "model.summary()\n"
   ]
  },
  {
   "cell_type": "code",
   "execution_count": 13,
   "id": "cbc37b23",
   "metadata": {},
   "outputs": [
    {
     "data": {
      "text/plain": [
       "0.7667935788631439"
      ]
     },
     "execution_count": 13,
     "metadata": {},
     "output_type": "execute_result"
    }
   ],
   "source": [
    "acc = history.history['accuracy']\n",
    "acc_median = np.median(acc)\n",
    "acc_median"
   ]
  },
  {
   "cell_type": "code",
   "execution_count": 14,
   "id": "41c745c7",
   "metadata": {},
   "outputs": [
    {
     "data": {
      "text/plain": [
       "0.08838078047348406"
      ]
     },
     "execution_count": 14,
     "metadata": {},
     "output_type": "execute_result"
    }
   ],
   "source": [
    "loss=history.history['loss']\n",
    "loss_std = np.std(loss)\n",
    "loss_std"
   ]
  },
  {
   "cell_type": "code",
   "execution_count": 15,
   "id": "b81092e0",
   "metadata": {},
   "outputs": [
    {
     "name": "stdout",
     "output_type": "stream",
     "text": [
      "Found 3677 images belonging to 2 classes.\n"
     ]
    }
   ],
   "source": [
    "train_gen_data_augmentation = ImageDataGenerator(rescale=1./255,\n",
    "                                                 rotation_range=50,\n",
    "                                                 width_shift_range=0.1,\n",
    "                                                 height_shift_range=0.1,\n",
    "                                                 zoom_range=0.1,\n",
    "                                                 horizontal_flip=True,\n",
    "                                                 fill_mode='nearest')\n",
    "\n",
    "train_ds_da = train_gen_data_augmentation.flow_from_directory(\n",
    "    './data/train',\n",
    "    target_size=(150, 150),\n",
    "    batch_size=20,\n",
    "    class_mode='binary',\n",
    "    shuffle=True\n",
    ")"
   ]
  },
  {
   "cell_type": "code",
   "execution_count": 16,
   "id": "2c0e0b89",
   "metadata": {},
   "outputs": [
    {
     "name": "stdout",
     "output_type": "stream",
     "text": [
      "Found 918 images belonging to 2 classes.\n"
     ]
    }
   ],
   "source": [
    "test_gen = ImageDataGenerator(rescale=1./255)\n",
    "\n",
    "test_ds = test_gen.flow_from_directory(\n",
    "    './data/test',\n",
    "    target_size=(150, 150),\n",
    "    batch_size=20,\n",
    "    class_mode='binary',\n",
    "    shuffle=True\n",
    ")"
   ]
  },
  {
   "cell_type": "code",
   "execution_count": 17,
   "id": "844d2ee1",
   "metadata": {},
   "outputs": [
    {
     "name": "stdout",
     "output_type": "stream",
     "text": [
      "Epoch 1/10\n",
      "184/184 [==============================] - 23s 125ms/step - loss: 0.5060 - accuracy: 0.7561 - val_loss: 0.4753 - val_accuracy: 0.7800\n",
      "Epoch 2/10\n",
      "184/184 [==============================] - 23s 125ms/step - loss: 0.4870 - accuracy: 0.7756 - val_loss: 0.4627 - val_accuracy: 0.7898\n",
      "Epoch 3/10\n",
      "184/184 [==============================] - 23s 126ms/step - loss: 0.4862 - accuracy: 0.7764 - val_loss: 0.4710 - val_accuracy: 0.7963\n",
      "Epoch 4/10\n",
      "184/184 [==============================] - 23s 125ms/step - loss: 0.4826 - accuracy: 0.7792 - val_loss: 0.5108 - val_accuracy: 0.7462\n",
      "Epoch 5/10\n",
      "184/184 [==============================] - 23s 125ms/step - loss: 0.4779 - accuracy: 0.7775 - val_loss: 0.4888 - val_accuracy: 0.7756\n",
      "Epoch 6/10\n",
      "184/184 [==============================] - 23s 124ms/step - loss: 0.4626 - accuracy: 0.7868 - val_loss: 0.4661 - val_accuracy: 0.7810\n",
      "Epoch 7/10\n",
      "184/184 [==============================] - 23s 126ms/step - loss: 0.4662 - accuracy: 0.7906 - val_loss: 0.4887 - val_accuracy: 0.7767\n",
      "Epoch 8/10\n",
      "184/184 [==============================] - 23s 126ms/step - loss: 0.4609 - accuracy: 0.7917 - val_loss: 0.4827 - val_accuracy: 0.7702\n",
      "Epoch 9/10\n",
      "184/184 [==============================] - 23s 125ms/step - loss: 0.4549 - accuracy: 0.7936 - val_loss: 0.4594 - val_accuracy: 0.7996\n",
      "Epoch 10/10\n",
      "184/184 [==============================] - 23s 126ms/step - loss: 0.4613 - accuracy: 0.7879 - val_loss: 0.4416 - val_accuracy: 0.7963\n"
     ]
    }
   ],
   "source": [
    "history = model.fit(\n",
    "    train_ds_da,\n",
    "    epochs=10,\n",
    "    validation_data=test_ds\n",
    ")"
   ]
  },
  {
   "cell_type": "code",
   "execution_count": 18,
   "id": "4e9c6a3d",
   "metadata": {},
   "outputs": [
    {
     "data": {
      "text/plain": [
       "0.47471369206905367"
      ]
     },
     "execution_count": 18,
     "metadata": {},
     "output_type": "execute_result"
    }
   ],
   "source": [
    "test_loss = history.history['val_loss']\n",
    "loss_mean= np.mean(test_loss)\n",
    "loss_mean"
   ]
  },
  {
   "cell_type": "code",
   "execution_count": 20,
   "id": "21622e81",
   "metadata": {},
   "outputs": [
    {
     "data": {
      "text/plain": [
       "0.784749448299408"
      ]
     },
     "execution_count": 20,
     "metadata": {},
     "output_type": "execute_result"
    }
   ],
   "source": [
    "acc_test_mean_aug = np.mean(history.history['val_accuracy'][5:10])\n",
    "acc_test_mean_aug\n"
   ]
  },
  {
   "cell_type": "code",
   "execution_count": null,
   "id": "8d51887f",
   "metadata": {},
   "outputs": [],
   "source": []
  }
 ],
 "metadata": {
  "kernelspec": {
   "display_name": "saturn (Python 3)",
   "language": "python",
   "name": "python3"
  },
  "language_info": {
   "codemirror_mode": {
    "name": "ipython",
    "version": 3
   },
   "file_extension": ".py",
   "mimetype": "text/x-python",
   "name": "python",
   "nbconvert_exporter": "python",
   "pygments_lexer": "ipython3",
   "version": "3.9.13"
  }
 },
 "nbformat": 4,
 "nbformat_minor": 5
}
